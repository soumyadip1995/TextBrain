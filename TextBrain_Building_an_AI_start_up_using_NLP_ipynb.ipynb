{
  "nbformat": 4,
  "nbformat_minor": 0,
  "metadata": {
    "colab": {
      "name": "TextBrain:- Building an AI start-up using NLP. ipynb",
      "version": "0.3.2",
      "provenance": [],
      "collapsed_sections": [
        "F6dqZ4QS8wLX"
      ],
      "include_colab_link": true
    },
    "kernelspec": {
      "name": "python3",
      "display_name": "Python 3"
    },
    "accelerator": "GPU"
  },
  "cells": [
    {
      "cell_type": "markdown",
      "metadata": {
        "id": "view-in-github",
        "colab_type": "text"
      },
      "source": [
        "<a href=\"https://colab.research.google.com/github/soumyadip1995/TextBrain---Building-an-AI-start-up-using-NLP/blob/master/TextBrain_Building_an_AI_start_up_using_NLP_ipynb.ipynb\" target=\"_parent\"><img src=\"https://colab.research.google.com/assets/colab-badge.svg\" alt=\"Open In Colab\"/></a>"
      ]
    },
    {
      "cell_type": "markdown",
      "metadata": {
        "id": "hLvoPM6Pjagl",
        "colab_type": "text"
      },
      "source": [
        "![alt text](https://cdn-images-1.medium.com/max/1200/1*CrK0fgI5FBl-5A1P_DEGdg.png)\n",
        "\n",
        "\n",
        "## Overview \n",
        "\n",
        "This is the blog post   for TextBrain, a tool  that automatically grades and validates texts. In order to validate texts, it uses the copyleaks API to check for plagiarism. It also uses a modified version of GPT-2 to detect the likelihood that the text was real or fake. Then it outputs a validation score using these 2 scores. In order to grade the text, it uses a neural network model trained on the automatic essay/text grading dataset on Kaggle found here [here](https://www.kaggle.com/c/asap-aes/data) .Take this project and go build a profitable startup with it...!!!"
      ]
    },
    {
      "cell_type": "markdown",
      "metadata": {
        "id": "Mzxg5sywd5sz",
        "colab_type": "text"
      },
      "source": [
        "##Steps in this Tutorial:-\n",
        "\n",
        "Step 1:- Download and run GPT-2, hopefully already  wrapped as a flask file.\n",
        "\n",
        "\n",
        "Step 2:- Analyse its structure\n",
        "\n",
        "Step 3:- Re-Design and add some text and stuff\n",
        "\n",
        "Step 4:- Design a Login and Sign Up functionality\n",
        "\n",
        "Step 5:- Integrate a Copy-Leaks API\n",
        "\n",
        "Step 6:- Integrate Tensorflow.js\n",
        "\n",
        "Step 7:- Train and transfer Scikit-Learn model on automatic essay/text grading dataset.\n",
        "\n",
        "Step 8:- Display scores\n",
        "\n",
        "Step 9:- Implement a payment Functionality.\n",
        "\n",
        "Step 10:- Upload to web.\n",
        "\n",
        "\n",
        "####note= D3.js is already integrated"
      ]
    },
    {
      "cell_type": "markdown",
      "metadata": {
        "id": "vNFW5d-L6kiF",
        "colab_type": "text"
      },
      "source": [
        "##What are language models and how do they generate text?\n",
        "\n",
        "In recent years, the natural language processing community has seen the development of increasingly [larger](https://https://ai.googleblog.com/2018/11/open-sourcing-bert-state-of-art-pre.html) and larger [larger](https://https://blog.openai.com/better-language-models)   language models.\n",
        "\n",
        "A language model is a machine learning model that is trained to predict the next word given an input context. As such, a model can generate text by generating one word at a time. These predictions can even, to some extent, be constrained by human-provided input to control what the model writes about. Due to their modeling power, large language models have the potential to generate textual output that is indistinguishable from human-written text to a non-expert reader.\n",
        "\n",
        "Language models achieve this with incredibly accurate distributional estimates of what words may follow in a given context. If a generation system uses a language model and predicts a very likely next words, the generation will look similar to what word a human would have picked in similar situation, despite not having much knowledge about the context itself. This opens up paths for malicious actors to use these tools to generate fake reviews, comments or news articles to influence the public opinion.\n",
        "\n",
        "To prevent this from happening, we need to develop forensic techniques to detect automatically generated text. We make the assumption that computer generated text fools humans by sticking to the most likely words at each position, a trick that fools humans. In contrast, natural writing actually more frequently selects unpredictable words that make sense to the domain. That means that we can detect whether a text actually looks too likely to be from a human writer!\n",
        "\n",
        "[GLTR](http://gltr.io/dist/index.html) represents a visually forensic tool to detect text that was automatically generated from large language models.\n"
      ]
    },
    {
      "cell_type": "markdown",
      "metadata": {
        "id": "3RjgfekuoHqq",
        "colab_type": "text"
      },
      "source": [
        "##Testing The Giant Language Model\n",
        "\n",
        "\n",
        "\n",
        "![alt text](http://gltr.io/figs/short_example.png)\n",
        "\n",
        "\n",
        "The aim of [GLTR](http://gltr.io/dist/index.html) is to take the same models that are used to generated fake text as a tool for detection. [GLTR](http://gltr.io/dist/index.html) has access to the GPT-2 117M language model from OpenAI, one of the largest publicly available models. It can use any textual input and analyze what GPT-2 would have predicted at each position. Since the output is a ranking of all of the words that the model knows, we can compute how the observed following word ranks. We use this positional information to overlay a colored mask over the text that corresponds to the position in the ranking. A word that ranks within the most likely words is highlighted in green (top 10), yellow (top 100), red (top 1,000), and the rest of the words in purple. Thus, we can get a direct visual indication of how likely each word was under the model.\n",
        "\n",
        "![alt text](http://gltr.io/figs/example_selection.png)\n",
        "\n",
        "\n",
        "While it is possible to paste any text into the tool, we provided some examples of fake and real texts. Notice that the fraction of red and purple words, i.e. unlikely predictions, increases when you move to the real texts. Moreover, we found that the informative snippets within a text almost always appear in red or purple since these \"surprising\" terms carry the message of the text.\n",
        " \n",
        "![alt text](http://gltr.io/figs/Gan.png)\n",
        "\n",
        "\n",
        "By hovering over a word in the display, a small box presents the top 5 predicted words, their associated probabilities, as well as the position of the following word. It is a fun exercise to look into what a model would have predicted.\n",
        "\n",
        "![alt text](http://gltr.io/figs/top_5.png)\n",
        "\n",
        "\n",
        "\n",
        "\n",
        "Finally, the tool shows three different histograms that aggregate the information over the whole text. The first one demonstrates how many words of each category appear in the text. The second one illustrates the ratio between the probabilities of the top predicted word and the following word. The last histogram shows the distribution over the entropies of the predictions. A low uncertainty implies that the model was very confident of each prediction, whereas a high uncertainty implies uncertainty. You can observe that for the academic text input, the uncertainty is generally higher than the samples from the model.\n",
        "\n",
        "\n",
        "\n",
        "![alt text](http://gltr.io/figs/histogram.png)"
      ]
    },
    {
      "cell_type": "markdown",
      "metadata": {
        "id": "Cr-ulEv-dDxf",
        "colab_type": "text"
      },
      "source": [
        "###Lets Demo a version of  GPT-2 with a few lines of code here..!\n",
        "\n",
        "I found this great repository on Github where the GPT-2 was implemented using pytorch:- Visit- [here](https://github.com/graykode/gpt-2-Pytorch)."
      ]
    },
    {
      "cell_type": "code",
      "metadata": {
        "id": "ZU2l9oV8aFVb",
        "colab_type": "code",
        "outputId": "5ce1b7d9-6305-446c-dfd3-a2667cd0e79d",
        "colab": {
          "base_uri": "https://localhost:8080/",
          "height": 150
        }
      },
      "source": [
        "! git clone https://github.com/graykode/gpt-2-Pytorch && cd gpt-2-Pytorch\n",
        "%cd /content/gpt-2-Pytorch/"
      ],
      "execution_count": 0,
      "outputs": [
        {
          "output_type": "stream",
          "text": [
            "Cloning into 'gpt-2-Pytorch'...\n",
            "remote: Enumerating objects: 117, done.\u001b[K\n",
            "remote: Counting objects:   0% (1/117)   \u001b[K\rremote: Counting objects:   1% (2/117)   \u001b[K\rremote: Counting objects:   2% (3/117)   \u001b[K\rremote: Counting objects:   3% (4/117)   \u001b[K\rremote: Counting objects:   4% (5/117)   \u001b[K\rremote: Counting objects:   5% (6/117)   \u001b[K\rremote: Counting objects:   6% (8/117)   \u001b[K\rremote: Counting objects:   7% (9/117)   \u001b[K\rremote: Counting objects:   8% (10/117)   \u001b[K\rremote: Counting objects:   9% (11/117)   \u001b[K\rremote: Counting objects:  10% (12/117)   \u001b[K\rremote: Counting objects:  11% (13/117)   \u001b[K\rremote: Counting objects:  12% (15/117)   \u001b[K\rremote: Counting objects:  13% (16/117)   \u001b[K\rremote: Counting objects:  14% (17/117)   \u001b[K\rremote: Counting objects:  15% (18/117)   \u001b[K\rremote: Counting objects:  16% (19/117)   \u001b[K\rremote: Counting objects:  17% (20/117)   \u001b[K\rremote: Counting objects:  18% (22/117)   \u001b[K\rremote: Counting objects:  19% (23/117)   \u001b[K\rremote: Counting objects:  20% (24/117)   \u001b[K\rremote: Counting objects:  21% (25/117)   \u001b[K\rremote: Counting objects:  22% (26/117)   \u001b[K\rremote: Counting objects:  23% (27/117)   \u001b[K\rremote: Counting objects:  24% (29/117)   \u001b[K\rremote: Counting objects:  25% (30/117)   \u001b[K\rremote: Counting objects:  26% (31/117)   \u001b[K\rremote: Counting objects:  27% (32/117)   \u001b[K\rremote: Counting objects:  28% (33/117)   \u001b[K\rremote: Counting objects:  29% (34/117)   \u001b[K\rremote: Counting objects:  30% (36/117)   \u001b[K\rremote: Counting objects:  31% (37/117)   \u001b[K\rremote: Counting objects:  32% (38/117)   \u001b[K\rremote: Counting objects:  33% (39/117)   \u001b[K\rremote: Counting objects:  34% (40/117)   \u001b[K\rremote: Counting objects:  35% (41/117)   \u001b[K\rremote: Counting objects:  36% (43/117)   \u001b[K\rremote: Counting objects:  37% (44/117)   \u001b[K\rremote: Counting objects:  38% (45/117)   \u001b[K\rremote: Counting objects:  39% (46/117)   \u001b[K\rremote: Counting objects:  40% (47/117)   \u001b[K\rremote: Counting objects:  41% (48/117)   \u001b[K\rremote: Counting objects:  42% (50/117)   \u001b[K\rremote: Counting objects:  43% (51/117)   \u001b[K\rremote: Counting objects:  44% (52/117)   \u001b[K\rremote: Counting objects:  45% (53/117)   \u001b[K\rremote: Counting objects:  46% (54/117)   \u001b[K\rremote: Counting objects:  47% (55/117)   \u001b[K\rremote: Counting objects:  48% (57/117)   \u001b[K\rremote: Counting objects:  49% (58/117)   \u001b[K\rremote: Counting objects:  50% (59/117)   \u001b[K\rremote: Counting objects:  51% (60/117)   \u001b[K\rremote: Counting objects:  52% (61/117)   \u001b[K\rremote: Counting objects:  53% (63/117)   \u001b[K\rremote: Counting objects:  54% (64/117)   \u001b[K\rremote: Counting objects:  55% (65/117)   \u001b[K\rremote: Counting objects:  56% (66/117)   \u001b[K\rremote: Counting objects:  57% (67/117)   \u001b[K\rremote: Counting objects:  58% (68/117)   \u001b[K\rremote: Counting objects:  59% (70/117)   \u001b[K\rremote: Counting objects:  60% (71/117)   \u001b[K\rremote: Counting objects:  61% (72/117)   \u001b[K\rremote: Counting objects:  62% (73/117)   \u001b[K\rremote: Counting objects:  63% (74/117)   \u001b[K\rremote: Counting objects:  64% (75/117)   \u001b[K\rremote: Counting objects:  65% (77/117)   \u001b[K\rremote: Counting objects:  66% (78/117)   \rremote: Counting objects:  67% (79/117)   \u001b[K\rremote: Counting objects:  68% (80/117)   \u001b[K\rremote: Counting objects:  69% (81/117)   \u001b[K\rremote: Counting objects:  70% (82/117)   \u001b[K\rremote: Counting objects:  71% (84/117)   \u001b[K\rremote: Counting objects:  72% (85/117)   \u001b[K\rremote: Counting objects:  73% (86/117)   \u001b[K\rremote: Counting objects:  74% (87/117)   \u001b[K\rremote: Counting objects:  75% (88/117)   \u001b[K\rremote: Counting objects:  76% (89/117)   \u001b[K\rremote: Counting objects:  77% (91/117)   \u001b[K\rremote: Counting objects:  78% (92/117)   \u001b[K\rremote: Counting objects:  79% (93/117)   \u001b[K\rremote: Counting objects:  80% (94/117)   \u001b[K\rremote: Counting objects:  81% (95/117)   \u001b[K\rremote: Counting objects:  82% (96/117)   \u001b[K\rremote: Counting objects:  83% (98/117)   \u001b[K\rremote: Counting objects:  84% (99/117)   \u001b[K\rremote: Counting objects:  85% (100/117)   \u001b[K\rremote: Counting objects:  86% (101/117)   \u001b[K\rremote: Counting objects:  87% (102/117)   \u001b[K\rremote: Counting objects:  88% (103/117)   \u001b[K\rremote: Counting objects:  89% (105/117)   \u001b[K\rremote: Counting objects:  90% (106/117)   \u001b[K\rremote: Counting objects:  91% (107/117)   \u001b[K\rremote: Counting objects:  92% (108/117)   \u001b[K\rremote: Counting objects:  93% (109/117)   \u001b[K\rremote: Counting objects:  94% (110/117)   \u001b[K\rremote: Counting objects:  95% (112/117)   \u001b[K\rremote: Counting objects:  96% (113/117)   \u001b[K\rremote: Counting objects:  97% (114/117)   \u001b[K\rremote: Counting objects:  98% (115/117)   \u001b[K\rremote: Counting objects:  99% (116/117)   \u001b[K\rremote: Counting objects: 100% (117/117)   \u001b[K\rremote: Counting objects: 100% (117/117), done.\u001b[K\n",
            "remote: Compressing objects:   1% (1/66)   \u001b[K\rremote: Compressing objects:   3% (2/66)   \u001b[K\rremote: Compressing objects:   4% (3/66)   \u001b[K\rremote: Compressing objects:   6% (4/66)   \u001b[K\rremote: Compressing objects:   7% (5/66)   \u001b[K\rremote: Compressing objects:   9% (6/66)   \u001b[K\rremote: Compressing objects:  10% (7/66)   \u001b[K\rremote: Compressing objects:  12% (8/66)   \u001b[K\rremote: Compressing objects:  13% (9/66)   \u001b[K\rremote: Compressing objects:  15% (10/66)   \u001b[K\rremote: Compressing objects:  16% (11/66)   \u001b[K\rremote: Compressing objects:  18% (12/66)   \u001b[K\rremote: Compressing objects:  19% (13/66)   \u001b[K\rremote: Compressing objects:  21% (14/66)   \u001b[K\rremote: Compressing objects:  22% (15/66)   \u001b[K\rremote: Compressing objects:  24% (16/66)   \u001b[K\rremote: Compressing objects:  25% (17/66)   \u001b[K\rremote: Compressing objects:  27% (18/66)   \u001b[K\rremote: Compressing objects:  28% (19/66)   \u001b[K\rremote: Compressing objects:  30% (20/66)   \u001b[K\rremote: Compressing objects:  31% (21/66)   \u001b[K\rremote: Compressing objects:  33% (22/66)   \u001b[K\rremote: Compressing objects:  34% (23/66)   \u001b[K\rremote: Compressing objects:  36% (24/66)   \u001b[K\rremote: Compressing objects:  37% (25/66)   \u001b[K\rremote: Compressing objects:  39% (26/66)   \u001b[K\rremote: Compressing objects:  40% (27/66)   \u001b[K\rremote: Compressing objects:  42% (28/66)   \u001b[K\rremote: Compressing objects:  43% (29/66)   \u001b[K\rremote: Compressing objects:  45% (30/66)   \u001b[K\rremote: Compressing objects:  46% (31/66)   \u001b[K\rremote: Compressing objects:  48% (32/66)   \u001b[K\rremote: Compressing objects:  50% (33/66)   \u001b[K\rremote: Compressing objects:  51% (34/66)   \u001b[K\rremote: Compressing objects:  53% (35/66)   \u001b[K\rremote: Compressing objects:  54% (36/66)   \u001b[K\rremote: Compressing objects:  56% (37/66)   \u001b[K\rremote: Compressing objects:  57% (38/66)   \u001b[K\rremote: Compressing objects:  59% (39/66)   \u001b[K\rremote: Compressing objects:  60% (40/66)   \u001b[K\rremote: Compressing objects:  62% (41/66)   \u001b[K\rremote: Compressing objects:  63% (42/66)   \u001b[K\rremote: Compressing objects:  65% (43/66)   \u001b[K\rremote: Compressing objects:  66% (44/66)   \u001b[K\rremote: Compressing objects:  68% (45/66)   \u001b[K\rremote: Compressing objects:  69% (46/66)   \u001b[K\rremote: Compressing objects:  71% (47/66)   \u001b[K\rremote: Compressing objects:  72% (48/66)   \u001b[K\rremote: Compressing objects:  74% (49/66)   \u001b[K\rremote: Compressing objects:  75% (50/66)   \u001b[K\rremote: Compressing objects:  77% (51/66)   \u001b[K\rremote: Compressing objects:  78% (52/66)   \u001b[K\rremote: Compressing objects:  80% (53/66)   \u001b[K\rremote: Compressing objects:  81% (54/66)   \u001b[K\rremote: Compressing objects:  83% (55/66)   \u001b[K\rremote: Compressing objects:  84% (56/66)   \u001b[K\rremote: Compressing objects:  86% (57/66)   \u001b[K\rremote: Compressing objects:  87% (58/66)   \u001b[K\rremote: Compressing objects:  89% (59/66)   \u001b[K\rremote: Compressing objects:  90% (60/66)   \u001b[K\rremote: Compressing objects:  92% (61/66)   \u001b[K\rremote: Compressing objects:  93% (62/66)   \u001b[K\rremote: Compressing objects:  95% (63/66)   \u001b[K\rremote: Compressing objects:  96% (64/66)   \u001b[K\rremote: Compressing objects:  98% (65/66)   \u001b[K\rremote: Compressing objects: 100% (66/66)   \u001b[K\rremote: Compressing objects: 100% (66/66), done.\u001b[K\n",
            "Receiving objects:   0% (1/117)   \rReceiving objects:   1% (2/117)   \rReceiving objects:   2% (3/117)   \rReceiving objects:   3% (4/117)   \rReceiving objects:   4% (5/117)   \rReceiving objects:   5% (6/117)   \rReceiving objects:   6% (8/117)   \rReceiving objects:   7% (9/117)   \rReceiving objects:   8% (10/117)   \rReceiving objects:   9% (11/117)   \rReceiving objects:  10% (12/117)   \rReceiving objects:  11% (13/117)   \rReceiving objects:  12% (15/117)   \rReceiving objects:  13% (16/117)   \rReceiving objects:  14% (17/117)   \rReceiving objects:  15% (18/117)   \rReceiving objects:  16% (19/117)   \rReceiving objects:  17% (20/117)   \rReceiving objects:  18% (22/117)   \rReceiving objects:  19% (23/117)   \rReceiving objects:  20% (24/117)   \rReceiving objects:  21% (25/117)   \rReceiving objects:  22% (26/117)   \rReceiving objects:  23% (27/117)   \rReceiving objects:  24% (29/117)   \rReceiving objects:  25% (30/117)   \rReceiving objects:  26% (31/117)   \rReceiving objects:  27% (32/117)   \rReceiving objects:  28% (33/117)   \rReceiving objects:  29% (34/117)   \rReceiving objects:  30% (36/117)   \rReceiving objects:  31% (37/117)   \rReceiving objects:  32% (38/117)   \rReceiving objects:  33% (39/117)   \rReceiving objects:  34% (40/117)   \rReceiving objects:  35% (41/117)   \rReceiving objects:  36% (43/117)   \rReceiving objects:  37% (44/117)   \rReceiving objects:  38% (45/117)   \rReceiving objects:  39% (46/117)   \rReceiving objects:  40% (47/117)   \rReceiving objects:  41% (48/117)   \rReceiving objects:  42% (50/117)   \rReceiving objects:  43% (51/117)   \rReceiving objects:  44% (52/117)   \rReceiving objects:  45% (53/117)   \rReceiving objects:  46% (54/117)   \rReceiving objects:  47% (55/117)   \rReceiving objects:  48% (57/117)   \rReceiving objects:  49% (58/117)   \rReceiving objects:  50% (59/117)   \rReceiving objects:  51% (60/117)   \rReceiving objects:  52% (61/117)   \rReceiving objects:  53% (63/117)   \rReceiving objects:  54% (64/117)   \rReceiving objects:  55% (65/117)   \rReceiving objects:  56% (66/117)   \rReceiving objects:  57% (67/117)   \rReceiving objects:  58% (68/117)   \rReceiving objects:  59% (70/117)   \rReceiving objects:  60% (71/117)   \rReceiving objects:  61% (72/117)   \rReceiving objects:  62% (73/117)   \rReceiving objects:  63% (74/117)   \rReceiving objects:  64% (75/117)   \rReceiving objects:  65% (77/117)   \rReceiving objects:  66% (78/117)   \rReceiving objects:  67% (79/117)   \rReceiving objects:  68% (80/117)   \rReceiving objects:  69% (81/117)   \rReceiving objects:  70% (82/117)   \rReceiving objects:  71% (84/117)   \rReceiving objects:  72% (85/117)   \rReceiving objects:  73% (86/117)   \rReceiving objects:  74% (87/117)   \rReceiving objects:  75% (88/117)   \rReceiving objects:  76% (89/117)   \rReceiving objects:  77% (91/117)   \rReceiving objects:  78% (92/117)   \rReceiving objects:  79% (93/117)   \rReceiving objects:  80% (94/117)   \rReceiving objects:  81% (95/117)   \rReceiving objects:  82% (96/117)   \rReceiving objects:  83% (98/117)   \rReceiving objects:  84% (99/117)   \rReceiving objects:  85% (100/117)   \rReceiving objects:  86% (101/117)   \rReceiving objects:  87% (102/117)   \rReceiving objects:  88% (103/117)   \rReceiving objects:  89% (105/117)   \rReceiving objects:  90% (106/117)   \rReceiving objects:  91% (107/117)   \rReceiving objects:  92% (108/117)   \rReceiving objects:  93% (109/117)   \rremote: Total 117 (delta 45), reused 115 (delta 44), pack-reused 0\u001b[K\n",
            "Receiving objects:  94% (110/117)   \rReceiving objects:  95% (112/117)   \rReceiving objects:  96% (113/117)   \rReceiving objects:  97% (114/117)   \rReceiving objects:  98% (115/117)   \rReceiving objects:  99% (116/117)   \rReceiving objects: 100% (117/117)   \rReceiving objects: 100% (117/117), 2.38 MiB | 25.68 MiB/s, done.\n",
            "Resolving deltas:   0% (0/45)   \rResolving deltas:   2% (1/45)   \rResolving deltas:   4% (2/45)   \rResolving deltas:   6% (3/45)   \rResolving deltas:   8% (4/45)   \rResolving deltas:  15% (7/45)   \rResolving deltas:  17% (8/45)   \rResolving deltas:  20% (9/45)   \rResolving deltas:  22% (10/45)   \rResolving deltas:  37% (17/45)   \rResolving deltas:  51% (23/45)   \rResolving deltas:  53% (24/45)   \rResolving deltas:  57% (26/45)   \rResolving deltas:  75% (34/45)   \rResolving deltas:  91% (41/45)   \rResolving deltas: 100% (45/45)   \rResolving deltas: 100% (45/45), done.\n",
            "/content/gpt-2-Pytorch\n"
          ],
          "name": "stdout"
        }
      ]
    },
    {
      "cell_type": "code",
      "metadata": {
        "id": "aWjc9jk9aziz",
        "colab_type": "code",
        "outputId": "c1e521a2-42aa-4bba-faa9-b9a0086bfd19",
        "colab": {
          "base_uri": "https://localhost:8080/",
          "height": 234
        }
      },
      "source": [
        "!pip install -r requirements.txt"
      ],
      "execution_count": 0,
      "outputs": [
        {
          "output_type": "stream",
          "text": [
            "Collecting regex==2017.4.5 (from -r requirements.txt (line 1))\n",
            "\u001b[?25l  Downloading https://files.pythonhosted.org/packages/36/62/c0c0d762ffd4ffaf39f372eb8561b8d491a11ace5a7884610424a8b40f95/regex-2017.04.05.tar.gz (601kB)\n",
            "\u001b[K     |████████████████████████████████| 604kB 2.8MB/s \n",
            "\u001b[?25hBuilding wheels for collected packages: regex\n",
            "  Building wheel for regex (setup.py) ... \u001b[?25l\u001b[?25hdone\n",
            "  Stored in directory: /root/.cache/pip/wheels/75/07/38/3c16b529d50cb4e0cd3dbc7b75cece8a09c132692c74450b01\n",
            "Successfully built regex\n",
            "\u001b[31mERROR: spacy 2.0.18 has requirement regex==2018.01.10, but you'll have regex 2017.4.5 which is incompatible.\u001b[0m\n",
            "Installing collected packages: regex\n",
            "  Found existing installation: regex 2018.1.10\n",
            "    Uninstalling regex-2018.1.10:\n",
            "      Successfully uninstalled regex-2018.1.10\n",
            "Successfully installed regex-2017.4.5\n"
          ],
          "name": "stdout"
        }
      ]
    },
    {
      "cell_type": "code",
      "metadata": {
        "id": "ceN7kM8_babU",
        "colab_type": "code",
        "outputId": "3d8b002a-2ed4-4e9a-d0d3-f074df7f1eb9",
        "colab": {
          "base_uri": "https://localhost:8080/",
          "height": 67
        }
      },
      "source": [
        "! curl --output gpt2-pytorch_model.bin https://s3.amazonaws.com/models.huggingface.co/bert/gpt2-pytorch_model.bin"
      ],
      "execution_count": 0,
      "outputs": [
        {
          "output_type": "stream",
          "text": [
            "  % Total    % Received % Xferd  Average Speed   Time    Time     Time  Current\n",
            "                                 Dload  Upload   Total   Spent    Left  Speed\n",
            "100  522M  100  522M    0     0  54.0M      0  0:00:09  0:00:09 --:--:-- 55.7M\n"
          ],
          "name": "stdout"
        }
      ]
    },
    {
      "cell_type": "code",
      "metadata": {
        "id": "ccMCniS3a-8z",
        "colab_type": "code",
        "outputId": "dd84a644-971c-46d2-964e-dee074a56d5b",
        "colab": {
          "base_uri": "https://localhost:8080/",
          "height": 622
        }
      },
      "source": [
        "! python3 main.py --text \"The Undertaker is the new WWE world Heavyweight Champion\""
      ],
      "execution_count": 0,
      "outputs": [
        {
          "output_type": "stream",
          "text": [
            "Namespace(batch_size=-1, length=-1, nsamples=1, quiet=False, temperature=0.7, text='The Undertaker is the new WWE world Heavyweight Champion', top_k=40, unconditional=False)\n",
            "The Undertaker is the new WWE world Heavyweight Champion\n",
            "100% 512/512 [00:08<00:00, 57.12it/s]\n",
            "======================================== SAMPLE 1 ========================================\n",
            ". He is on the way to reclaim the title and claim the title from the former champion, Jimmy Snuka. The Undertaker and his team are on their way to defeat the main event, The Miz.\n",
            "\n",
            "What is your favorite match of the night?\n",
            "\n",
            "Watch the video below!\n",
            "\n",
            "We are in the process of reviewing all of the top WWE matches and will share the results with you when we get back. We hope you enjoy this video of the Undertaker and his team defeating The Miz!\n",
            "\n",
            "Follow WWE On Twitter\n",
            "\n",
            "Follow @WWE on Instagram\n",
            "\n",
            "Follow @WWE_TODAY<|endoftext|>Citigroup's $3.6 Billion, $3.2 Billion, $2.8 Billion, $2.6 Billion, $2.3 Billion, $2.2 Billion, and $2.1 Billion, and $2.0 Billion, and $1.5 Trillion, were more than twice as big as the $1.9 Trillion the U.S. economy produced in 2008.\n",
            "\n",
            "The $1.9 Trillion was just what the U.S. economy needed to grow by 2.8 percent in 2008. In fact, it was the largest share of the total that the economy produced, and it also grew faster than the U.S. economy did.\n",
            "\n",
            "After the 2008 financial crisis, the U.S. economic recovery was slower than that of any other developed nation. It was also the fastest-growing economy since 1945.\n",
            "\n",
            "The world economy's average growth rate was 7.1 percent in 2008.\n",
            "\n",
            "The world was also the fastest-growing economy in 2008\n",
            "\n",
            "At the same time, the U.S. economy produced more than twice as much as it did in 2008.\n",
            "\n",
            "The U.S. economy produced more than twice as much as it did in 2008, and the U.S. economy produced more than twice as much as it did in 2008, and the U.S. economy produced more than twice as much as it did in 2008, and in 2008, the U.S. economy produced more than twice as much as it did in 2008.\n",
            "\n",
            "In 2008, the U.S. economy produced about $6.2 trillion in net exports, a 9.3 percent increase from the previous year.\n",
            "\n",
            "The U.S. economy produced about $6.2 trillion in net exports, a 9.3 percent increase from the previous year.\n",
            "\n",
            "The U\n"
          ],
          "name": "stdout"
        }
      ]
    },
    {
      "cell_type": "markdown",
      "metadata": {
        "id": "JmLsy8hIHvkZ",
        "colab_type": "text"
      },
      "source": [
        "####Download and Run the project from the repository below:- https://github.com/HendrikStrobelt/detecting-fake-text/ <- This is the base repository that I am using.\n",
        "\n",
        "If you wish to Replicate my project directly, You can clone my Repository from [here](https://github.com/soumyadip1995/TextBrain---Building-an-AI-start-up-using-NLP) in your IPython Notebook.\n",
        "\n",
        "```bash\n",
        "!git clone https://github.com/soumyadip1995/TextBrain---Building-an-AI-start-up-using-NLP && cd TextBrain---Building-an-AI-start-up-using-NLP \n",
        "```\n",
        "\n",
        "Then,\n",
        "\n",
        " Install dependencies for Python >3.6 :\n",
        " \n",
        "\n",
        "```bash\n",
        "!pip install -r requirements.txt\n",
        "```\n",
        "\n",
        "run server for `gpt-2-small`:\n",
        "\n",
        "```bash\n",
        "python server.py\n",
        "```\n",
        "\n",
        "In the original project Repo:- Under clent/dist we have a few files. index.html and fun.html. We will be using those. I would suggest you to open up those files.\n",
        "\n",
        "\n",
        "## Flask\n",
        "\n",
        "![alt text](https://fiverr-res.cloudinary.com/images/t_main1,q_auto,f_auto/gigs/46941709/original/d5ace87ba59d0d4e5151668e60e8eaf673153ff7/build-api-in-python-flask.jpg)\n",
        "\n",
        "\n",
        "Flask is a micro web framework written in Python. It is classified as a microframework because it does not require particular tools or libraries. It has no database abstraction layer, form validation, or any other components where pre-existing third-party libraries provide common functions. However, Flask supports extensions that can add application features as if they were implemented in Flask itself. Extensions exist for object-relational mappers, form validation, upload handling, various open authentication technologies and several common framework related tools. Extensions are updated far more regularly than the core Flask program.\n",
        "\n",
        "Applications that use the Flask framework include Pinterest, LinkedIn  and the community web page for Flask itself.\n",
        "\n",
        "\n",
        "## Firebase\n",
        "\n",
        "![alt text](https://firebase.google.com/images/social.png)\n",
        "\n",
        "Firebase is Google's mobile platform that helps you quickly develop high-quality apps and grow your business.\n",
        "\n",
        "\n",
        "###Flask+ Firebase Integration\n",
        "\n",
        "\n",
        "Google Firebase integration for Flask. \n",
        "\n",
        "The extension works in two modes: development and production. In development, there is no communication with the Firebase system, accounts sign-in with a simple email form. \n",
        "\n",
        "In this project, we are using a  Flask and Firebase Integration in python in order to create a non-logic route. We are then using an authentication for the non-logic route that was created in the server.py file. We are doing this  by calling a flask function from javascript. We will use the name of the route and perform post action to the route from the index.html. Here is some sample code:- https://github.com/klokantech/flask-firebase. The logic code in this repo can help you to add a login, sign in/ sign up button and help you to Reskin the whole page to suit your needs. And then we add a clickon function to it from the browser as well.\n",
        "\n",
        "###An example code is shown below...!!!"
      ]
    },
    {
      "cell_type": "code",
      "metadata": {
        "id": "RpH7-B5YgzoH",
        "colab_type": "code",
        "colab": {}
      },
      "source": [
        "from flask import Flask\n",
        "\n",
        "@app.route('/foo', methods=['GET', 'POST'])\n",
        "def foo(x=None, y=None):\n",
        "    # do something to send email\n",
        "    pass\n",
        "  \n",
        " \n",
        "#CLICKON \n",
        "\n",
        "\n",
        "window.onclick = function(event) {\n",
        "    if (event.target == modal) {\n",
        "        modal.style.display = \"none\";"
      ],
      "execution_count": 0,
      "outputs": []
    },
    {
      "cell_type": "markdown",
      "metadata": {
        "id": "KTvc_9v2wqyd",
        "colab_type": "text"
      },
      "source": [
        "A post Authentication for the non logic route in the server.py file(stack overflow)\n",
        "\n",
        "```\n",
        "<form action=\"/foo\" method=\"post\">\n",
        "    <button type=\"submit\" value=\"Send Email\" />\n",
        "</form>\n",
        "```\n",
        "\n"
      ]
    },
    {
      "cell_type": "markdown",
      "metadata": {
        "id": "H0o6tf3bnLzl",
        "colab_type": "text"
      },
      "source": [
        "We can Re-skin the html files in order to suit our needs."
      ]
    },
    {
      "cell_type": "markdown",
      "metadata": {
        "id": "SZNs4F2YnXf0",
        "colab_type": "text"
      },
      "source": [
        "##Copyleaks\n",
        "\n",
        "\n",
        "![alt text](https://www.testing-web-sites.co.uk/wp-content/uploads/2015/06/copyleaks-2017.png)\n",
        "\n",
        "\n",
        "The Copyleaks API is a powerful yet simple tool to integrate within your platform and allow  you to add content authentication capabilities in just a few minutes. https://copyleaks.com/\n",
        "\n",
        "Here you can find all the needed documentation for a seamless integration including SDKs with code examples, methods documentation, technical specifications and more.\n",
        "\n",
        "Copyleaks Python SDK\n",
        "\n",
        "\n",
        "Copyleaks SDK is a simple framework that allows you to scan textual content for plagiarism and trace content distribution online, using the Copyleaks plagiarism checker cloud.\n",
        "\n",
        "\n",
        "We are using Copyleaks for any kind of plagiarism. It is checking for Similarity on the web and not for generated text. Create an account to obtain an api key. For more info on how on use SDKs , you can check out [this](https://www.youtube.com/watch?v=B2Lck9Pst2M) video. For more info:- Visit this repo-> \n",
        "https://github.com/Copyleaks/Python-Plagiarism-Checker\n",
        "\n",
        "\n",
        "\n",
        "###Usage\n",
        "\n",
        "Login to your account using your email, api-key and the product that you would like to use.\n",
        "\n",
        "```bashfrom copyleaks.copyleakscloud import CopyleaksCloud\n",
        "from copyleaks.product import Product\n",
        "from copyleaks.processoptions import ProcessOptions\n",
        "cloud = CopyleaksCloud(Product.Education, 'YOUR_EMAIL_HERE', 'YOUR_API_KEY_HERE')# You can change the product.\n",
        "```\n",
        "\n",
        "\n",
        "\n",
        "\n"
      ]
    },
    {
      "cell_type": "markdown",
      "metadata": {
        "id": "asJ59vcpsynR",
        "colab_type": "text"
      },
      "source": [
        "###Tensorflow.js\n",
        "\n",
        "![alt text](https://miro.medium.com/max/980/1*6k9B30y848iV-lTwoH8Faw.png)\n",
        "\n",
        "\n",
        "The link below is the website which I have referred to. \n",
        "https://codelabs.developers.google.com/codelabs/tensorflowjs-teachablemachine-codelab/index.html#0\n",
        "\n",
        "\n",
        "You will first load and run a popular pre-trained model called MobileNet for image classification in the browser. You will then use a technique called \"transfer learning\", which bootstraps our training with the pre-trained MobileNet model and customizes it to train for your application. Although we are not using any kind of image classification in this scenario, so we just load that in and then it sets up mobile net by creating an asynchronous JavaScript file that takes an image, in this case it performs transfer learning on it using this downloaded model mobile net and it makes prediction. So, what we did in the project was, essentially create a script that pulls tensorflow.js from the web and then we create a grading button. then we just copy and past the code in index.html.\n",
        "\n",
        "We then create this on-click function so whenever it whenever user clicks on the grading button it's going to asynchronously load up that mobile net\n",
        "model and then classify that image that we got  and then display\n",
        "the result in the console. So this is just an example to see if we could integrate potential digest into our file\n",
        "\n",
        "\n"
      ]
    },
    {
      "cell_type": "markdown",
      "metadata": {
        "id": "F6dqZ4QS8wLX",
        "colab_type": "text"
      },
      "source": [
        "### Train and transfer scikit learn model on automatic  essay/text grading dataset.\n",
        "\n",
        "\n",
        "###Feed Forward Neural Network\n",
        "\n",
        "Using Neural Networks to predict essay grades using vectorized essays\n",
        "\n",
        "We use neural networks to predict the grade of the essay by training on 90% of the data and testing on 10% of the data. The neural network works using 3 layers, with one input layer, two layers on neurons and with one output node.\n",
        "\n",
        "Let's look at the architecture, initialization and cost. So, we would use this model and train in the cloud and try and load it in our project. The link below is the model that we will be using.\n",
        "\n",
        "\n",
        "\n",
        "\n",
        "https://github.com/madhavthaker/AES/blob/master/Neural_Network_Write_Up_final.ipynb\n",
        "\n",
        "\n",
        "So, what this person has done is basically use a feedforward neural network.\n",
        "to predict essay grades/text grades using vectorized essays/text\n",
        "\n",
        "We use neural networks to predict the grade of the essay/text by training on 90% of the data and testing on 10% of the data. The neural network works using 3 layers, with one input layer, two layers on neurons and with one output node. This was the result below.\n",
        "\n",
        "\n",
        "![alt text](data:image/png;base64,iVBORw0KGgoAAAANSUhEUgAAAisAAAGHCAYAAABxmBIgAAAABHNCSVQICAgIfAhkiAAAAAlwSFlz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%0AJEm1ZrAiSZJqzWBFkiTVmsGKJEmqtf8f5glT61DotpYAAAAASUVORK5CYII=%0A)\n",
        "\n",
        "\n",
        "\n",
        "###Results\n",
        "\n",
        "Having tested the Neural Network on 10% of the data and trained on 90% of the data, we get the highest Spearman score of 0.9369, with fairly low computation time. These are fantastic results meaning that there is high accuracy from our model.\n",
        "\n",
        "\n",
        "###Automatic Essay/Text Grading\n",
        "\n",
        "\n",
        "We need to grade our texts and often times it is in another form like HDF5 format. We need to convert this into a json file format and convert the entire model into tensorflow.js so that it can be used, since the whole thing is in javascript. We can also use ONNX- https://onnx.ai/ \n",
        "\n",
        "ONNX is an AI ecosystem that can be used convert one library to another library to another library. So in this case we will be converting the scikit learn model and load that into tensorflow.js\n"
      ]
    },
    {
      "cell_type": "markdown",
      "metadata": {
        "id": "4zV-OZmi_URO",
        "colab_type": "text"
      },
      "source": [
        "##Display scores and Payment Functionality.\n",
        "###Result\n",
        "![alt text](https://github.com/soumyadip1995/TextBrain---Building-an-AI-start-up-using-NLP/blob/master/Screenshot%20(151).png?raw=true)\n",
        "\n",
        "The validity is actually the average. Let me explain:-\n",
        "\n",
        "The GPT-2 score is suppose score1 which is a scalar value and the value from the plagiarism API is the second score Lets say -> score2. Now we take an average of these two scores-> $$(score1+ score2)/2$$ \n",
        "\n",
        "which is the validity. This is how we calculate validity.\n",
        "\n",
        "\n",
        "which you see in the picture, then we're gonna create a grading score and the way to do that is to use the scikit learn model as mentioned above  and so that's also going to output a scalar value and that scalar\n",
        "\n",
        "value is our text score and then you know it's a float value but we convert it to an integer and then display it as HTML to the user and once we have that we now have a score for both validity and the grade now we also want to add this of this you know very crucially this payment functionality that is\n",
        "easily done with stripe and we create a button for that in the index.html as well. Stripe will take care of our payment, card and banking details as well.\n",
        "\n",
        "Stripe Official Website:-https://stripe.com/\n",
        "\n",
        "![alt text](https://stripe.com/img/v3/home/social.png)\n",
        "\n",
        "\n",
        "A sample is shown below:- Copy and paste this using your own API key in index.html\n",
        "\n",
        "```bash \n",
        "var handler = StripeCheckout.configure({\n",
        "  key: 'XXX',\n",
        "  image: 'https://stripe.com/img/documentation/checkout/marketplace.png',\n",
        "  locale: 'auto',\n",
        "  token: function(token) {\n",
        "  \n",
        "  ```\n",
        "  \n",
        "  \n",
        "  And then we Run it in the browser to check our Results."
      ]
    },
    {
      "cell_type": "markdown",
      "metadata": {
        "id": "j6kfEvufHsju",
        "colab_type": "text"
      },
      "source": [
        "##Conclusion\n",
        "\n",
        " We have created this technology but we didn't create it , we implemented the engineering solution somebody else made the scientific discovery but we are now serving it to\n",
        "people as an engineering solution but in the way to make this into a sustainable business where you can pay yourself you can hire people to improve the product. We can then build continuous training pipelines.\n",
        "\n",
        "\n",
        "\n",
        "We can obviously have better UI design and we can have more flat ski routing this was kind of like jumbling  these java scripts in HTML and CSS all together. We can separate those more cleanly in this paradigm if it was react then we would want to put it all together as a component and then we would want JavaScript based training as well so notice how I coated it in Python.  I trained the model in Python and I served it with JavaScript but ideally all that happens in the same language and so you know that's that's something we can do to improve alright so this code is open source use it as you'd like , make a business out of it do whatever you need to do help people with it .\n"
      ]
    }
  ]
}
